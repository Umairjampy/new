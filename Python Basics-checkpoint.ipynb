{
 "cells": [
  {
   "cell_type": "raw",
   "id": "42f4f020",
   "metadata": {},
   "source": [
    "# Hello world\n",
    "\n",
    "print(\"Hello world\")"
   ]
  },
  {
   "cell_type": "raw",
   "id": "55c4ab05",
   "metadata": {},
   "source": [
    "name=\"umair\"\n",
    "age=22\n",
    "print(name,age)"
   ]
  },
  {
   "cell_type": "markdown",
   "id": "ff292981",
   "metadata": {},
   "source": [
    "is_adult= False \n",
    "print(name,age)"
   ]
  },
  {
   "cell_type": "raw",
   "id": "8883415c",
   "metadata": {},
   "source": [
    "#Catentation\n",
    "\n",
    "name=input(\"what is your name ?\")\n",
    "print (\"hello\"+ name)"
   ]
  },
  {
   "cell_type": "raw",
   "id": "d9ad0a3d",
   "metadata": {},
   "source": [
    "#Tpye Conversion(int,float,str,bool)\n",
    "\n",
    "age=input(\"input your age\")\n",
    "new=int(age) + 2\n",
    "print(new)"
   ]
  },
  {
   "cell_type": "raw",
   "id": "a33f4ea0",
   "metadata": {},
   "source": [
    " first=input(\"enter first number\")\n",
    "second=input(\"enter second number\")\n",
    "result=int(first)+int(second)\n",
    "print(result)\n"
   ]
  },
  {
   "cell_type": "raw",
   "id": "7fb06a96",
   "metadata": {},
   "source": [
    "#Strings\n",
    "\n",
    "name=\"umair\"\n",
    "print(name.upper())\n",
    "print(name.find('i'))\n",
    "print(name.replace(\"umair\",(\"jam\")))\n"
   ]
  },
  {
   "cell_type": "raw",
   "id": "136fb8d6",
   "metadata": {},
   "source": [
    "#IN keyword\n",
    "\n",
    "name=\"umair\"\n",
    "print (\"umair\" in name)\n",
    "print(\"jam\"in name)\n"
   ]
  },
  {
   "cell_type": "raw",
   "id": "8b8bcd6e",
   "metadata": {},
   "source": [
    "#Arthimatic operation\n",
    "\n",
    "print(5+2)\n",
    "print(5-2)\n",
    "print(5*2)\n",
    "print(5/2)\n",
    "print(5**2)\n",
    "print(5//2) #to remove decimal"
   ]
  },
  {
   "cell_type": "raw",
   "id": "d8575972",
   "metadata": {},
   "source": [
    "#operator precedence\n",
    "\n",
    "result=2+3*5/4-2\n",
    "print(result)"
   ]
  },
  {
   "cell_type": "raw",
   "id": "6afce905",
   "metadata": {},
   "source": [
    "print(2>1 or 2==2)"
   ]
  },
  {
   "cell_type": "raw",
   "id": "6517430d",
   "metadata": {},
   "source": [
    "#If-Else\n",
    "\n",
    "age=18\n",
    "if(age>=19):\n",
    "    print(\"your an adult\")\n",
    "    print(\"you can vote\")\n",
    "elif(age<18 and age>3):\n",
    "    print(\"your in school\")\n",
    "else:\n",
    "    print(\"your a kid\")\n",
    "    \n",
    "print(\"Thank you\")    \n",
    "\n",
    "#indent matters first 2 print function have same indent last print has\n",
    "#different means last is out of block it will run every time.\n",
    "\n"
   ]
  },
  {
   "cell_type": "raw",
   "id": "4e12bd84",
   "metadata": {},
   "source": [
    "# Calculator Task\n",
    "\n",
    "a=input(\"Please enter first number \")\n",
    "b=input(\"Please enter second number \")\n",
    "opr=input(\"enter operator\")\n",
    "a=int(a)\n",
    "b=int(b)\n",
    "if(opr=='+'):\n",
    "    print(a+b)\n",
    "elif(opr=='-'):\n",
    "    print(a-b)\n",
    "elif(opr=='*'):\n",
    "    print(a*b)\n",
    "elif(opr=='/'):\n",
    "    print(a/b)\n",
    "elif(opr=='%'):\n",
    "    print(a%b)\n",
    "else:\n",
    "    print('invaid')"
   ]
  },
  {
   "cell_type": "raw",
   "id": "ac0f4e40",
   "metadata": {},
   "source": [
    "#Range\n",
    "\n",
    "#range(5)=0,1,2,3,4\n",
    "numbers=range(5)\n",
    "print (numbers)\n"
   ]
  },
  {
   "cell_type": "raw",
   "id": "053baf4c",
   "metadata": {},
   "source": [
    "# While loops\n",
    "\n",
    "i=1\n",
    "while i <=5:\n",
    "    print(i)\n",
    "    i=i+1\n"
   ]
  },
  {
   "cell_type": "raw",
   "id": "4ddacb12",
   "metadata": {},
   "source": [
    "#For loops\n",
    "\n",
    "for item in range(5):\n",
    "    print(item)\n",
    "print('----------------------')\n",
    "for item in range(5):\n",
    "    print(item+1)\n"
   ]
  },
  {
   "cell_type": "code",
   "execution_count": null,
   "id": "d503325c",
   "metadata": {},
   "outputs": [],
   "source": []
  }
 ],
 "metadata": {
  "kernelspec": {
   "display_name": "Python 3 (ipykernel)",
   "language": "python",
   "name": "python3"
  },
  "language_info": {
   "codemirror_mode": {
    "name": "ipython",
    "version": 3
   },
   "file_extension": ".py",
   "mimetype": "text/x-python",
   "name": "python",
   "nbconvert_exporter": "python",
   "pygments_lexer": "ipython3",
   "version": "3.9.13"
  }
 },
 "nbformat": 4,
 "nbformat_minor": 5
}
